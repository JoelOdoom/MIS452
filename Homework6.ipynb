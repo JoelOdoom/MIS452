{
  "nbformat": 4,
  "nbformat_minor": 0,
  "metadata": {
    "colab": {
      "name": "Untitled12.ipynb",
      "provenance": [],
      "authorship_tag": "ABX9TyP/9lCXLzQJ+opH8F00GR+o",
      "include_colab_link": true
    },
    "kernelspec": {
      "name": "ir",
      "display_name": "R"
    },
    "language_info": {
      "name": "R"
    }
  },
  "cells": [
    {
      "cell_type": "markdown",
      "metadata": {
        "id": "view-in-github",
        "colab_type": "text"
      },
      "source": [
        "<a href=\"https://colab.research.google.com/github/JoelOdoom/MIS452/blob/master/Homework6.ipynb\" target=\"_parent\"><img src=\"https://colab.research.google.com/assets/colab-badge.svg\" alt=\"Open In Colab\"/></a>"
      ]
    },
    {
      "cell_type": "code",
      "metadata": {
        "colab": {
          "base_uri": "https://localhost:8080/"
        },
        "id": "TRmdalB87ZOB",
        "outputId": "7945811d-d2a0-434c-d423-503a26abe8d6"
      },
      "source": [
        "library('dplyr')"
      ],
      "execution_count": 11,
      "outputs": [
        {
          "output_type": "stream",
          "name": "stderr",
          "text": [
            "\n",
            "Attaching package: ‘dplyr’\n",
            "\n",
            "\n",
            "The following objects are masked from ‘package:stats’:\n",
            "\n",
            "    filter, lag\n",
            "\n",
            "\n",
            "The following objects are masked from ‘package:base’:\n",
            "\n",
            "    intersect, setdiff, setequal, union\n",
            "\n",
            "\n"
          ]
        }
      ]
    },
    {
      "cell_type": "code",
      "metadata": {
        "id": "PL3_geVJ7giI"
      },
      "source": [
        "artists <- read.csv('https://github.com/MuseumofModernArt/collection/raw/master/Artists.csv')"
      ],
      "execution_count": 30,
      "outputs": []
    },
    {
      "cell_type": "code",
      "metadata": {
        "id": "l9VGgmdo8CmR"
      },
      "source": [
        "head(artists, n=50)"
      ],
      "execution_count": null,
      "outputs": []
    },
    {
      "cell_type": "code",
      "metadata": {
        "id": "2S0t7A_BAZBd"
      },
      "source": [
        "(artists\n",
        "%>% mutate(BirthDate = ifelse(BeginDate == 0, \"N/A\", BeginDate))\n",
        "%>% head\n",
        ")"
      ],
      "execution_count": null,
      "outputs": []
    },
    {
      "cell_type": "code",
      "metadata": {
        "id": "kTn6YaLqFXSz"
      },
      "source": [
        "(artists\n",
        "%>% mutate(BeginDate = as.character(BeginDate))\n",
        "%>% mutate(decade = paste(substr(BeginDate,1,3),\"0\",sep=\"\"))\n",
        "%>% mutate(decade = as.numeric(decade))\n",
        ")\n"
      ],
      "execution_count": null,
      "outputs": []
    },
    {
      "cell_type": "code",
      "metadata": {
        "id": "90D4jXxAQjcF"
      },
      "source": [
        "(artists \n",
        "%>% mutate(BeginDate = as.character(BeginDate))\n",
        "%>% mutate(decade = paste(substr(BeginDate,1,3),\"0\",sep=\"\"))\n",
        "%>% mutate(decade = as.numeric(decade))\n",
        "%>% group_by(decade) \n",
        "%>% summarize(cnt = n())\n",
        " )"
      ],
      "execution_count": null,
      "outputs": []
    },
    {
      "cell_type": "code",
      "metadata": {
        "id": "9P4zbnXiWs4D"
      },
      "source": [
        "artworks <- read.csv('https://github.com/MuseumofModernArt/collection/raw/master/Artworks.csv')"
      ],
      "execution_count": 85,
      "outputs": []
    },
    {
      "cell_type": "code",
      "metadata": {
        "colab": {
          "base_uri": "https://localhost:8080/",
          "height": 830
        },
        "id": "HylIINYoW1P2",
        "outputId": "9c19bd68-e98e-4758-ea9f-94ab91195868"
      },
      "source": [
        "head(artworks)"
      ],
      "execution_count": 86,
      "outputs": [
        {
          "output_type": "display_data",
          "data": {
            "text/plain": [
              "  Title                                                                                                        \n",
              "1 Ferdinandsbrücke Project, Vienna, Austria (Elevation, preliminary version)                                   \n",
              "2 City of Music, National Superior Conservatory of Music and Dance, Paris, France, View from interior courtyard\n",
              "3 Villa near Vienna Project, Outside Vienna, Austria, Elevation                                                \n",
              "4 The Manhattan Transcripts Project, New York, New York, Introductory panel to Episode 1: The Park             \n",
              "5 Villa, project, outside Vienna, Austria, Exterior perspective                                                \n",
              "6 The Manhattan Transcripts Project, New York, New York, Episode 1: The Park                                   \n",
              "  Artist                   ConstituentID\n",
              "1 Otto Wagner              6210         \n",
              "2 Christian de Portzamparc 7470         \n",
              "3 Emil Hoppe               7605         \n",
              "4 Bernard Tschumi          7056         \n",
              "5 Emil Hoppe               7605         \n",
              "6 Bernard Tschumi          7056         \n",
              "  ArtistBio                                 Nationality BeginDate EndDate\n",
              "1 (Austrian, 1841–1918)                     (Austrian)  (1841)    (1918) \n",
              "2 (French, born 1944)                       (French)    (1944)    (0)    \n",
              "3 (Austrian, 1876–1957)                     (Austrian)  (1876)    (1957) \n",
              "4 (French and Swiss, born Switzerland 1944) ()          (1944)    (0)    \n",
              "5 (Austrian, 1876–1957)                     (Austrian)  (1876)    (1957) \n",
              "6 (French and Swiss, born Switzerland 1944) ()          (1944)    (0)    \n",
              "  Gender Date    Medium                                                        \n",
              "1 (Male) 1896    Ink and cut-and-pasted painted pages on paper                 \n",
              "2 (Male) 1987    Paint and colored pencil on print                             \n",
              "3 (Male) 1903    Graphite, pen, color pencil, ink, and gouache on tracing paper\n",
              "4 (Male) 1980    Photographic reproduction with colored synthetic laminate     \n",
              "5 (Male) 1903    Graphite, color pencil, ink, and gouache on tracing paper     \n",
              "6 (Male) 1976-77 Gelatin silver photograph                                     \n",
              "  ⋯\n",
              "1 ⋯\n",
              "2 ⋯\n",
              "3 ⋯\n",
              "4 ⋯\n",
              "5 ⋯\n",
              "6 ⋯\n",
              "  ThumbnailURL                                                                                                                 \n",
              "1 http://www.moma.org/media/W1siZiIsIjU5NDA1Il0sWyJwIiwiY29udmVydCIsIi1yZXNpemUgMzAweDMwMFx1MDAzZSJdXQ.jpg?sha=137b8455b1ec6167\n",
              "2 http://www.moma.org/media/W1siZiIsIjk3Il0sWyJwIiwiY29udmVydCIsIi1yZXNpemUgMzAweDMwMFx1MDAzZSJdXQ.jpg?sha=55b65fa4368fe00a    \n",
              "3 http://www.moma.org/media/W1siZiIsIjk4Il0sWyJwIiwiY29udmVydCIsIi1yZXNpemUgMzAweDMwMFx1MDAzZSJdXQ.jpg?sha=fdcfca4db3acac1f    \n",
              "4 http://www.moma.org/media/W1siZiIsIjEyNCJdLFsicCIsImNvbnZlcnQiLCItcmVzaXplIDMwMHgzMDBcdTAwM2UiXV0.jpg?sha=c89b9071486760a5   \n",
              "5 http://www.moma.org/media/W1siZiIsIjEyNiJdLFsicCIsImNvbnZlcnQiLCItcmVzaXplIDMwMHgzMDBcdTAwM2UiXV0.jpg?sha=b21f3d10def77da9   \n",
              "6 http://www.moma.org/media/W1siZiIsIjE0OCJdLFsicCIsImNvbnZlcnQiLCItcmVzaXplIDMwMHgzMDBcdTAwM2UiXV0.jpg?sha=66fd4135e60693d0   \n",
              "  Circumference..cm. Depth..cm. Diameter..cm. Height..cm. Length..cm.\n",
              "1 NA                 NA         NA            48.6000     NA         \n",
              "2 NA                 NA         NA            40.6401     NA         \n",
              "3 NA                 NA         NA            34.3000     NA         \n",
              "4 NA                 NA         NA            50.8000     NA         \n",
              "5 NA                 NA         NA            38.4000     NA         \n",
              "6 NA                 NA         NA            35.6000     NA         \n",
              "  Weight..kg. Width..cm. Seat.Height..cm. Duration..sec..\n",
              "1 NA          168.9000   NA               NA             \n",
              "2 NA           29.8451   NA               NA             \n",
              "3 NA           31.8000   NA               NA             \n",
              "4 NA           50.8000   NA               NA             \n",
              "5 NA           19.1000   NA               NA             \n",
              "6 NA           45.7000   NA               NA             "
            ],
            "text/latex": "A data.frame: 6 × 29\n\\begin{tabular}{r|lllllllllllllllllllll}\n  & Title & Artist & ConstituentID & ArtistBio & Nationality & BeginDate & EndDate & Gender & Date & Medium & ⋯ & ThumbnailURL & Circumference..cm. & Depth..cm. & Diameter..cm. & Height..cm. & Length..cm. & Weight..kg. & Width..cm. & Seat.Height..cm. & Duration..sec..\\\\\n  & <chr> & <chr> & <chr> & <chr> & <chr> & <chr> & <chr> & <chr> & <chr> & <chr> & ⋯ & <chr> & <dbl> & <dbl> & <dbl> & <dbl> & <dbl> & <dbl> & <dbl> & <lgl> & <dbl>\\\\\n\\hline\n\t1 & Ferdinandsbrücke Project, Vienna, Austria (Elevation, preliminary version)                                    & Otto Wagner              & 6210 & (Austrian, 1841–1918)                     & (Austrian) & (1841) & (1918) & (Male) & 1896    & Ink and cut-and-pasted painted pages on paper                  & ⋯ & http://www.moma.org/media/W1siZiIsIjU5NDA1Il0sWyJwIiwiY29udmVydCIsIi1yZXNpemUgMzAweDMwMFx1MDAzZSJdXQ.jpg?sha=137b8455b1ec6167 & NA & NA & NA & 48.6000 & NA & NA & 168.9000 & NA & NA\\\\\n\t2 & City of Music, National Superior Conservatory of Music and Dance, Paris, France, View from interior courtyard & Christian de Portzamparc & 7470 & (French, born 1944)                       & (French)   & (1944) & (0)    & (Male) & 1987    & Paint and colored pencil on print                              & ⋯ & http://www.moma.org/media/W1siZiIsIjk3Il0sWyJwIiwiY29udmVydCIsIi1yZXNpemUgMzAweDMwMFx1MDAzZSJdXQ.jpg?sha=55b65fa4368fe00a     & NA & NA & NA & 40.6401 & NA & NA &  29.8451 & NA & NA\\\\\n\t3 & Villa near Vienna Project, Outside Vienna, Austria, Elevation                                                 & Emil Hoppe               & 7605 & (Austrian, 1876–1957)                     & (Austrian) & (1876) & (1957) & (Male) & 1903    & Graphite, pen, color pencil, ink, and gouache on tracing paper & ⋯ & http://www.moma.org/media/W1siZiIsIjk4Il0sWyJwIiwiY29udmVydCIsIi1yZXNpemUgMzAweDMwMFx1MDAzZSJdXQ.jpg?sha=fdcfca4db3acac1f     & NA & NA & NA & 34.3000 & NA & NA &  31.8000 & NA & NA\\\\\n\t4 & The Manhattan Transcripts Project, New York, New York, Introductory panel to Episode 1: The Park              & Bernard Tschumi          & 7056 & (French and Swiss, born Switzerland 1944) & ()         & (1944) & (0)    & (Male) & 1980    & Photographic reproduction with colored synthetic laminate      & ⋯ & http://www.moma.org/media/W1siZiIsIjEyNCJdLFsicCIsImNvbnZlcnQiLCItcmVzaXplIDMwMHgzMDBcdTAwM2UiXV0.jpg?sha=c89b9071486760a5    & NA & NA & NA & 50.8000 & NA & NA &  50.8000 & NA & NA\\\\\n\t5 & Villa, project, outside Vienna, Austria, Exterior perspective                                                 & Emil Hoppe               & 7605 & (Austrian, 1876–1957)                     & (Austrian) & (1876) & (1957) & (Male) & 1903    & Graphite, color pencil, ink, and gouache on tracing paper      & ⋯ & http://www.moma.org/media/W1siZiIsIjEyNiJdLFsicCIsImNvbnZlcnQiLCItcmVzaXplIDMwMHgzMDBcdTAwM2UiXV0.jpg?sha=b21f3d10def77da9    & NA & NA & NA & 38.4000 & NA & NA &  19.1000 & NA & NA\\\\\n\t6 & The Manhattan Transcripts Project, New York, New York, Episode 1: The Park                                    & Bernard Tschumi          & 7056 & (French and Swiss, born Switzerland 1944) & ()         & (1944) & (0)    & (Male) & 1976-77 & Gelatin silver photograph                                      & ⋯ & http://www.moma.org/media/W1siZiIsIjE0OCJdLFsicCIsImNvbnZlcnQiLCItcmVzaXplIDMwMHgzMDBcdTAwM2UiXV0.jpg?sha=66fd4135e60693d0    & NA & NA & NA & 35.6000 & NA & NA &  45.7000 & NA & NA\\\\\n\\end{tabular}\n",
            "text/markdown": "\nA data.frame: 6 × 29\n\n| <!--/--> | Title &lt;chr&gt; | Artist &lt;chr&gt; | ConstituentID &lt;chr&gt; | ArtistBio &lt;chr&gt; | Nationality &lt;chr&gt; | BeginDate &lt;chr&gt; | EndDate &lt;chr&gt; | Gender &lt;chr&gt; | Date &lt;chr&gt; | Medium &lt;chr&gt; | ⋯ ⋯ | ThumbnailURL &lt;chr&gt; | Circumference..cm. &lt;dbl&gt; | Depth..cm. &lt;dbl&gt; | Diameter..cm. &lt;dbl&gt; | Height..cm. &lt;dbl&gt; | Length..cm. &lt;dbl&gt; | Weight..kg. &lt;dbl&gt; | Width..cm. &lt;dbl&gt; | Seat.Height..cm. &lt;lgl&gt; | Duration..sec.. &lt;dbl&gt; |\n|---|---|---|---|---|---|---|---|---|---|---|---|---|---|---|---|---|---|---|---|---|---|\n| 1 | Ferdinandsbrücke Project, Vienna, Austria (Elevation, preliminary version)                                    | Otto Wagner              | 6210 | (Austrian, 1841–1918)                     | (Austrian) | (1841) | (1918) | (Male) | 1896    | Ink and cut-and-pasted painted pages on paper                  | ⋯ | http://www.moma.org/media/W1siZiIsIjU5NDA1Il0sWyJwIiwiY29udmVydCIsIi1yZXNpemUgMzAweDMwMFx1MDAzZSJdXQ.jpg?sha=137b8455b1ec6167 | NA | NA | NA | 48.6000 | NA | NA | 168.9000 | NA | NA |\n| 2 | City of Music, National Superior Conservatory of Music and Dance, Paris, France, View from interior courtyard | Christian de Portzamparc | 7470 | (French, born 1944)                       | (French)   | (1944) | (0)    | (Male) | 1987    | Paint and colored pencil on print                              | ⋯ | http://www.moma.org/media/W1siZiIsIjk3Il0sWyJwIiwiY29udmVydCIsIi1yZXNpemUgMzAweDMwMFx1MDAzZSJdXQ.jpg?sha=55b65fa4368fe00a     | NA | NA | NA | 40.6401 | NA | NA |  29.8451 | NA | NA |\n| 3 | Villa near Vienna Project, Outside Vienna, Austria, Elevation                                                 | Emil Hoppe               | 7605 | (Austrian, 1876–1957)                     | (Austrian) | (1876) | (1957) | (Male) | 1903    | Graphite, pen, color pencil, ink, and gouache on tracing paper | ⋯ | http://www.moma.org/media/W1siZiIsIjk4Il0sWyJwIiwiY29udmVydCIsIi1yZXNpemUgMzAweDMwMFx1MDAzZSJdXQ.jpg?sha=fdcfca4db3acac1f     | NA | NA | NA | 34.3000 | NA | NA |  31.8000 | NA | NA |\n| 4 | The Manhattan Transcripts Project, New York, New York, Introductory panel to Episode 1: The Park              | Bernard Tschumi          | 7056 | (French and Swiss, born Switzerland 1944) | ()         | (1944) | (0)    | (Male) | 1980    | Photographic reproduction with colored synthetic laminate      | ⋯ | http://www.moma.org/media/W1siZiIsIjEyNCJdLFsicCIsImNvbnZlcnQiLCItcmVzaXplIDMwMHgzMDBcdTAwM2UiXV0.jpg?sha=c89b9071486760a5    | NA | NA | NA | 50.8000 | NA | NA |  50.8000 | NA | NA |\n| 5 | Villa, project, outside Vienna, Austria, Exterior perspective                                                 | Emil Hoppe               | 7605 | (Austrian, 1876–1957)                     | (Austrian) | (1876) | (1957) | (Male) | 1903    | Graphite, color pencil, ink, and gouache on tracing paper      | ⋯ | http://www.moma.org/media/W1siZiIsIjEyNiJdLFsicCIsImNvbnZlcnQiLCItcmVzaXplIDMwMHgzMDBcdTAwM2UiXV0.jpg?sha=b21f3d10def77da9    | NA | NA | NA | 38.4000 | NA | NA |  19.1000 | NA | NA |\n| 6 | The Manhattan Transcripts Project, New York, New York, Episode 1: The Park                                    | Bernard Tschumi          | 7056 | (French and Swiss, born Switzerland 1944) | ()         | (1944) | (0)    | (Male) | 1976-77 | Gelatin silver photograph                                      | ⋯ | http://www.moma.org/media/W1siZiIsIjE0OCJdLFsicCIsImNvbnZlcnQiLCItcmVzaXplIDMwMHgzMDBcdTAwM2UiXV0.jpg?sha=66fd4135e60693d0    | NA | NA | NA | 35.6000 | NA | NA |  45.7000 | NA | NA |\n\n",
            "text/html": [
              "<table class=\"dataframe\">\n",
              "<caption>A data.frame: 6 × 29</caption>\n",
              "<thead>\n",
              "\t<tr><th></th><th scope=col>Title</th><th scope=col>Artist</th><th scope=col>ConstituentID</th><th scope=col>ArtistBio</th><th scope=col>Nationality</th><th scope=col>BeginDate</th><th scope=col>EndDate</th><th scope=col>Gender</th><th scope=col>Date</th><th scope=col>Medium</th><th scope=col>⋯</th><th scope=col>ThumbnailURL</th><th scope=col>Circumference..cm.</th><th scope=col>Depth..cm.</th><th scope=col>Diameter..cm.</th><th scope=col>Height..cm.</th><th scope=col>Length..cm.</th><th scope=col>Weight..kg.</th><th scope=col>Width..cm.</th><th scope=col>Seat.Height..cm.</th><th scope=col>Duration..sec..</th></tr>\n",
              "\t<tr><th></th><th scope=col>&lt;chr&gt;</th><th scope=col>&lt;chr&gt;</th><th scope=col>&lt;chr&gt;</th><th scope=col>&lt;chr&gt;</th><th scope=col>&lt;chr&gt;</th><th scope=col>&lt;chr&gt;</th><th scope=col>&lt;chr&gt;</th><th scope=col>&lt;chr&gt;</th><th scope=col>&lt;chr&gt;</th><th scope=col>&lt;chr&gt;</th><th scope=col>⋯</th><th scope=col>&lt;chr&gt;</th><th scope=col>&lt;dbl&gt;</th><th scope=col>&lt;dbl&gt;</th><th scope=col>&lt;dbl&gt;</th><th scope=col>&lt;dbl&gt;</th><th scope=col>&lt;dbl&gt;</th><th scope=col>&lt;dbl&gt;</th><th scope=col>&lt;dbl&gt;</th><th scope=col>&lt;lgl&gt;</th><th scope=col>&lt;dbl&gt;</th></tr>\n",
              "</thead>\n",
              "<tbody>\n",
              "\t<tr><th scope=row>1</th><td>Ferdinandsbrücke Project, Vienna, Austria (Elevation, preliminary version)                                   </td><td>Otto Wagner             </td><td>6210</td><td>(Austrian, 1841–1918)                    </td><td>(Austrian)</td><td>(1841)</td><td>(1918)</td><td>(Male)</td><td>1896   </td><td>Ink and cut-and-pasted painted pages on paper                 </td><td>⋯</td><td>http://www.moma.org/media/W1siZiIsIjU5NDA1Il0sWyJwIiwiY29udmVydCIsIi1yZXNpemUgMzAweDMwMFx1MDAzZSJdXQ.jpg?sha=137b8455b1ec6167</td><td>NA</td><td>NA</td><td>NA</td><td>48.6000</td><td>NA</td><td>NA</td><td>168.9000</td><td>NA</td><td>NA</td></tr>\n",
              "\t<tr><th scope=row>2</th><td>City of Music, National Superior Conservatory of Music and Dance, Paris, France, View from interior courtyard</td><td>Christian de Portzamparc</td><td>7470</td><td>(French, born 1944)                      </td><td>(French)  </td><td>(1944)</td><td>(0)   </td><td>(Male)</td><td>1987   </td><td>Paint and colored pencil on print                             </td><td>⋯</td><td>http://www.moma.org/media/W1siZiIsIjk3Il0sWyJwIiwiY29udmVydCIsIi1yZXNpemUgMzAweDMwMFx1MDAzZSJdXQ.jpg?sha=55b65fa4368fe00a    </td><td>NA</td><td>NA</td><td>NA</td><td>40.6401</td><td>NA</td><td>NA</td><td> 29.8451</td><td>NA</td><td>NA</td></tr>\n",
              "\t<tr><th scope=row>3</th><td>Villa near Vienna Project, Outside Vienna, Austria, Elevation                                                </td><td>Emil Hoppe              </td><td>7605</td><td>(Austrian, 1876–1957)                    </td><td>(Austrian)</td><td>(1876)</td><td>(1957)</td><td>(Male)</td><td>1903   </td><td>Graphite, pen, color pencil, ink, and gouache on tracing paper</td><td>⋯</td><td>http://www.moma.org/media/W1siZiIsIjk4Il0sWyJwIiwiY29udmVydCIsIi1yZXNpemUgMzAweDMwMFx1MDAzZSJdXQ.jpg?sha=fdcfca4db3acac1f    </td><td>NA</td><td>NA</td><td>NA</td><td>34.3000</td><td>NA</td><td>NA</td><td> 31.8000</td><td>NA</td><td>NA</td></tr>\n",
              "\t<tr><th scope=row>4</th><td>The Manhattan Transcripts Project, New York, New York, Introductory panel to Episode 1: The Park             </td><td>Bernard Tschumi         </td><td>7056</td><td>(French and Swiss, born Switzerland 1944)</td><td>()        </td><td>(1944)</td><td>(0)   </td><td>(Male)</td><td>1980   </td><td>Photographic reproduction with colored synthetic laminate     </td><td>⋯</td><td>http://www.moma.org/media/W1siZiIsIjEyNCJdLFsicCIsImNvbnZlcnQiLCItcmVzaXplIDMwMHgzMDBcdTAwM2UiXV0.jpg?sha=c89b9071486760a5   </td><td>NA</td><td>NA</td><td>NA</td><td>50.8000</td><td>NA</td><td>NA</td><td> 50.8000</td><td>NA</td><td>NA</td></tr>\n",
              "\t<tr><th scope=row>5</th><td>Villa, project, outside Vienna, Austria, Exterior perspective                                                </td><td>Emil Hoppe              </td><td>7605</td><td>(Austrian, 1876–1957)                    </td><td>(Austrian)</td><td>(1876)</td><td>(1957)</td><td>(Male)</td><td>1903   </td><td>Graphite, color pencil, ink, and gouache on tracing paper     </td><td>⋯</td><td>http://www.moma.org/media/W1siZiIsIjEyNiJdLFsicCIsImNvbnZlcnQiLCItcmVzaXplIDMwMHgzMDBcdTAwM2UiXV0.jpg?sha=b21f3d10def77da9   </td><td>NA</td><td>NA</td><td>NA</td><td>38.4000</td><td>NA</td><td>NA</td><td> 19.1000</td><td>NA</td><td>NA</td></tr>\n",
              "\t<tr><th scope=row>6</th><td>The Manhattan Transcripts Project, New York, New York, Episode 1: The Park                                   </td><td>Bernard Tschumi         </td><td>7056</td><td>(French and Swiss, born Switzerland 1944)</td><td>()        </td><td>(1944)</td><td>(0)   </td><td>(Male)</td><td>1976-77</td><td>Gelatin silver photograph                                     </td><td>⋯</td><td>http://www.moma.org/media/W1siZiIsIjE0OCJdLFsicCIsImNvbnZlcnQiLCItcmVzaXplIDMwMHgzMDBcdTAwM2UiXV0.jpg?sha=66fd4135e60693d0   </td><td>NA</td><td>NA</td><td>NA</td><td>35.6000</td><td>NA</td><td>NA</td><td> 45.7000</td><td>NA</td><td>NA</td></tr>\n",
              "</tbody>\n",
              "</table>\n"
            ]
          },
          "metadata": {}
        }
      ]
    },
    {
      "cell_type": "code",
      "metadata": {
        "id": "OIbCpW0hcOXi"
      },
      "source": [
        "(artworks_1\n",
        "  %>% mutate(Newdepth = ifelse(Depth..cm. == 0, \"\", Depth..cm.))\n",
        "  %>% mutate(Newwidth = ifelse(Width..cm. == 0, \"\", Width..cm.))\n",
        "  %>% mutate(Newheight = ifelse(Height..cm. == 0, \"\", Height..cm.))\n",
        "  %>% head\n",
        ")\n"
      ],
      "execution_count": null,
      "outputs": []
    },
    {
      "cell_type": "code",
      "metadata": {
        "colab": {
          "base_uri": "https://localhost:8080/",
          "height": 128
        },
        "id": "k8tu_0IF2tbq",
        "outputId": "15a56353-7ca2-4476-a75c-ea5b1b53be45"
      },
      "source": [
        "(artworks_1\n",
        "  %>% mutate(Newdepth = ifelse(Depth..cm. == 0, \"\", Depth..cm.))\n",
        "  %>% mutate(Newwidth = ifelse(Width..cm. == 0, \"\", Width..cm.))\n",
        "  %>% mutate(Newheight = ifelse(Height..cm. == 0, \"\", Height..cm.))\n",
        "  %>% summarize(avg_width = mean(Newwidth), max(Newwidth), avg_height = mean(Newheight), max(Newheight), avg_depth = mean(Newdepth), max(Newdepth))\n",
        ")"
      ],
      "execution_count": 97,
      "outputs": [
        {
          "output_type": "display_data",
          "data": {
            "text/plain": [
              "  avg_width max(Newwidth) avg_height max(Newheight) avg_depth max(Newdepth)\n",
              "1 57.69085  168.9         41.39002   50.8           NA        NA           "
            ],
            "text/latex": "A data.frame: 1 × 6\n\\begin{tabular}{llllll}\n avg\\_width & max(Newwidth) & avg\\_height & max(Newheight) & avg\\_depth & max(Newdepth)\\\\\n <dbl> & <dbl> & <dbl> & <dbl> & <dbl> & <int>\\\\\n\\hline\n\t 57.69085 & 168.9 & 41.39002 & 50.8 & NA & NA\\\\\n\\end{tabular}\n",
            "text/markdown": "\nA data.frame: 1 × 6\n\n| avg_width &lt;dbl&gt; | max(Newwidth) &lt;dbl&gt; | avg_height &lt;dbl&gt; | max(Newheight) &lt;dbl&gt; | avg_depth &lt;dbl&gt; | max(Newdepth) &lt;int&gt; |\n|---|---|---|---|---|---|\n| 57.69085 | 168.9 | 41.39002 | 50.8 | NA | NA |\n\n",
            "text/html": [
              "<table class=\"dataframe\">\n",
              "<caption>A data.frame: 1 × 6</caption>\n",
              "<thead>\n",
              "\t<tr><th scope=col>avg_width</th><th scope=col>max(Newwidth)</th><th scope=col>avg_height</th><th scope=col>max(Newheight)</th><th scope=col>avg_depth</th><th scope=col>max(Newdepth)</th></tr>\n",
              "\t<tr><th scope=col>&lt;dbl&gt;</th><th scope=col>&lt;dbl&gt;</th><th scope=col>&lt;dbl&gt;</th><th scope=col>&lt;dbl&gt;</th><th scope=col>&lt;dbl&gt;</th><th scope=col>&lt;int&gt;</th></tr>\n",
              "</thead>\n",
              "<tbody>\n",
              "\t<tr><td>57.69085</td><td>168.9</td><td>41.39002</td><td>50.8</td><td>NA</td><td>NA</td></tr>\n",
              "</tbody>\n",
              "</table>\n"
            ]
          },
          "metadata": {}
        }
      ]
    },
    {
      "cell_type": "code",
      "metadata": {
        "colab": {
          "base_uri": "https://localhost:8080/",
          "height": 128
        },
        "id": "j3IArXH04kV3",
        "outputId": "68162c05-9d90-458d-de3e-c2019c26fed7"
      },
      "source": [
        "(artworks_1\n",
        "  %>% mutate(Newdepth = ifelse(Depth..cm. == 0, \"\", Depth..cm.))\n",
        "  %>% mutate(Newwidth = ifelse(Width..cm. == 0, \"\", Width..cm.))\n",
        "  %>% mutate(Newheight = ifelse(Height..cm. == 0, \"\", Height..cm.))\n",
        "  %>% group_by(Classification)\n",
        "  %>% summarize(avg_width = mean(Newwidth), max(Newwidth), avg_height = mean(Newheight), max(Newheight), avg_depth = mean(Newdepth), max(Newdepth))\n",
        ")"
      ],
      "execution_count": 100,
      "outputs": [
        {
          "output_type": "display_data",
          "data": {
            "text/plain": [
              "  Classification avg_width max(Newwidth) avg_height max(Newheight) avg_depth\n",
              "1 Architecture   57.69085  168.9         41.39002   50.8           NA       \n",
              "  max(Newdepth)\n",
              "1 NA           "
            ],
            "text/latex": "A tibble: 1 × 7\n\\begin{tabular}{lllllll}\n Classification & avg\\_width & max(Newwidth) & avg\\_height & max(Newheight) & avg\\_depth & max(Newdepth)\\\\\n <chr> & <dbl> & <dbl> & <dbl> & <dbl> & <dbl> & <int>\\\\\n\\hline\n\t Architecture & 57.69085 & 168.9 & 41.39002 & 50.8 & NA & NA\\\\\n\\end{tabular}\n",
            "text/markdown": "\nA tibble: 1 × 7\n\n| Classification &lt;chr&gt; | avg_width &lt;dbl&gt; | max(Newwidth) &lt;dbl&gt; | avg_height &lt;dbl&gt; | max(Newheight) &lt;dbl&gt; | avg_depth &lt;dbl&gt; | max(Newdepth) &lt;int&gt; |\n|---|---|---|---|---|---|---|\n| Architecture | 57.69085 | 168.9 | 41.39002 | 50.8 | NA | NA |\n\n",
            "text/html": [
              "<table class=\"dataframe\">\n",
              "<caption>A tibble: 1 × 7</caption>\n",
              "<thead>\n",
              "\t<tr><th scope=col>Classification</th><th scope=col>avg_width</th><th scope=col>max(Newwidth)</th><th scope=col>avg_height</th><th scope=col>max(Newheight)</th><th scope=col>avg_depth</th><th scope=col>max(Newdepth)</th></tr>\n",
              "\t<tr><th scope=col>&lt;chr&gt;</th><th scope=col>&lt;dbl&gt;</th><th scope=col>&lt;dbl&gt;</th><th scope=col>&lt;dbl&gt;</th><th scope=col>&lt;dbl&gt;</th><th scope=col>&lt;dbl&gt;</th><th scope=col>&lt;int&gt;</th></tr>\n",
              "</thead>\n",
              "<tbody>\n",
              "\t<tr><td>Architecture</td><td>57.69085</td><td>168.9</td><td>41.39002</td><td>50.8</td><td>NA</td><td>NA</td></tr>\n",
              "</tbody>\n",
              "</table>\n"
            ]
          },
          "metadata": {}
        }
      ]
    }
  ]
}